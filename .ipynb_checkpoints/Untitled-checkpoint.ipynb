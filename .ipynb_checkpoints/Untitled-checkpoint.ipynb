{
 "cells": [
  {
   "cell_type": "markdown",
   "metadata": {},
   "source": [
    "# Capstone Project"
   ]
  },
  {
   "cell_type": "markdown",
   "metadata": {},
   "source": [
    "## Introduction\n",
    "\n",
    "Topdeck is a company based in Toronto for tourism activities and spots, currently it is one of the highest rated Toronto-based companies for tourism. However, it can be difficult to manually plan and find out all of the available places in Toronto for each activity and can be an uneccessary use of capital. Therefore, it would be helpful to have a model to plan out where important locations are. The company has to put a good tourism program and package, including a hotel, places of landscape to visit, stores for shopping, restaurants and cafes, and tourism attractions. So the company’s purpose is to make a list of places of landscape in Toronto, including the nearest restaurants, cafes, and shopping stores, and tourism attractions for each place."
   ]
  },
  {
   "cell_type": "markdown",
   "metadata": {},
   "source": [
    "## Data\n",
    "The data used in this project is provided by Foursquare location data. The data are grouped by landscape area, and each area included the information about this area and all information about restaurants, cafes, tourism attractions, and stores which are located in this area. The only data that is simply needed is the data for different types of places, attractions, and edifices of purpose."
   ]
  },
  {
   "cell_type": "code",
   "execution_count": null,
   "metadata": {},
   "outputs": [],
   "source": []
  }
 ],
 "metadata": {
  "kernelspec": {
   "display_name": "Python 3",
   "language": "python",
   "name": "python3"
  },
  "language_info": {
   "codemirror_mode": {
    "name": "ipython",
    "version": 3
   },
   "file_extension": ".py",
   "mimetype": "text/x-python",
   "name": "python",
   "nbconvert_exporter": "python",
   "pygments_lexer": "ipython3",
   "version": "3.6.6"
  }
 },
 "nbformat": 4,
 "nbformat_minor": 2
}
