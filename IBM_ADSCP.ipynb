{
 "cells": [
  {
   "cell_type": "markdown",
   "metadata": {},
   "source": [
    "# This Notebook will be used for the IBM Applied Data Science Capstone FInal Project"
   ]
  },
  {
   "cell_type": "code",
   "execution_count": 17,
   "metadata": {},
   "outputs": [],
   "source": [
    "import pandas as pd"
   ]
  },
  {
   "cell_type": "code",
   "execution_count": 18,
   "metadata": {},
   "outputs": [],
   "source": [
    "import numpy as np"
   ]
  },
  {
   "cell_type": "code",
   "execution_count": 19,
   "metadata": {},
   "outputs": [
    {
     "name": "stdout",
     "output_type": "stream",
     "text": [
      "Hello Capstone Project Course\n"
     ]
    }
   ],
   "source": [
    "print(\"Hello Capstone Project Course\")"
   ]
  },
  {
   "cell_type": "code",
   "execution_count": 20,
   "metadata": {},
   "outputs": [],
   "source": [
    "import json\n",
    "from geopy.geocoders import Nominatim\n",
    "import requests\n",
    "from pandas.io.json import json_normalize\n",
    "import matplotlib.cm as cm\n",
    "import matplotlib.colors as colors\n",
    "from sklearn.cluster import KMeans"
   ]
  },
  {
   "cell_type": "code",
   "execution_count": 21,
   "metadata": {},
   "outputs": [],
   "source": [
    "import requests\n",
    "website_url = requests.get('https://en.wikipedia.org/wiki/List_of_postal_codes_of_Canada:_M').text"
   ]
  },
  {
   "cell_type": "code",
   "execution_count": 22,
   "metadata": {},
   "outputs": [],
   "source": [
    "from bs4 import BeautifulSoup\n",
    "soup = BeautifulSoup(website_url,'html.parser')"
   ]
  },
  {
   "cell_type": "code",
   "execution_count": 23,
   "metadata": {},
   "outputs": [],
   "source": [
    "headers=\"Postcode,Borough,Neighbourhood\"\n",
    "My_table = soup.find('table',{'class':'wikitable sortable'})"
   ]
  },
  {
   "cell_type": "code",
   "execution_count": 24,
   "metadata": {},
   "outputs": [],
   "source": [
    "table1=\"\"\n",
    "for tr in My_table.find_all('tr'):\n",
    "    row1=\"\"\n",
    "    for tds in tr.find_all('td'):\n",
    "        row1=row1+\",\"+tds.text\n",
    "    table1=table1+row1[1:]\n"
   ]
  },
  {
   "cell_type": "code",
   "execution_count": 25,
   "metadata": {},
   "outputs": [
    {
     "data": {
      "text/plain": [
       "6570"
      ]
     },
     "execution_count": 25,
     "metadata": {},
     "output_type": "execute_result"
    }
   ],
   "source": [
    "file=open(\"toronto.csv\",\"wb\")\n",
    "file.write(bytes(table1,encoding=\"ascii\",errors=\"ignore\"))"
   ]
  },
  {
   "cell_type": "code",
   "execution_count": 29,
   "metadata": {},
   "outputs": [
    {
     "name": "stderr",
     "output_type": "stream",
     "text": [
      "b'Skipping line 2: expected 1 fields, saw 2\\nSkipping line 3: expected 1 fields, saw 2\\nSkipping line 5: expected 1 fields, saw 2\\nSkipping line 6: expected 1 fields, saw 2\\nSkipping line 8: expected 1 fields, saw 2\\nSkipping line 9: expected 1 fields, saw 2\\nSkipping line 11: expected 1 fields, saw 2\\nSkipping line 12: expected 1 fields, saw 2\\nSkipping line 14: expected 1 fields, saw 2\\nSkipping line 15: expected 1 fields, saw 2\\nSkipping line 17: expected 1 fields, saw 2\\nSkipping line 18: expected 1 fields, saw 2\\nSkipping line 20: expected 1 fields, saw 2\\nSkipping line 21: expected 1 fields, saw 2\\nSkipping line 23: expected 1 fields, saw 2\\nSkipping line 24: expected 1 fields, saw 2\\nSkipping line 26: expected 1 fields, saw 2\\nSkipping line 27: expected 1 fields, saw 2\\nSkipping line 29: expected 1 fields, saw 2\\nSkipping line 30: expected 1 fields, saw 2\\nSkipping line 32: expected 1 fields, saw 2\\nSkipping line 33: expected 1 fields, saw 2\\nSkipping line 35: expected 1 fields, saw 2\\nSkipping line 36: expected 1 fields, saw 2\\nSkipping line 38: expected 1 fields, saw 2\\nSkipping line 39: expected 1 fields, saw 2\\nSkipping line 41: expected 1 fields, saw 2\\nSkipping line 42: expected 1 fields, saw 3\\nSkipping line 44: expected 1 fields, saw 2\\nSkipping line 45: expected 1 fields, saw 2\\nSkipping line 47: expected 1 fields, saw 2\\nSkipping line 48: expected 1 fields, saw 2\\nSkipping line 50: expected 1 fields, saw 2\\nSkipping line 51: expected 1 fields, saw 2\\nSkipping line 53: expected 1 fields, saw 2\\nSkipping line 54: expected 1 fields, saw 2\\nSkipping line 56: expected 1 fields, saw 2\\nSkipping line 57: expected 1 fields, saw 2\\nSkipping line 59: expected 1 fields, saw 2\\nSkipping line 60: expected 1 fields, saw 2\\nSkipping line 62: expected 1 fields, saw 2\\nSkipping line 63: expected 1 fields, saw 2\\nSkipping line 65: expected 1 fields, saw 2\\nSkipping line 66: expected 1 fields, saw 2\\nSkipping line 68: expected 1 fields, saw 2\\nSkipping line 69: expected 1 fields, saw 2\\nSkipping line 71: expected 1 fields, saw 2\\nSkipping line 72: expected 1 fields, saw 2\\nSkipping line 74: expected 1 fields, saw 2\\nSkipping line 75: expected 1 fields, saw 2\\nSkipping line 77: expected 1 fields, saw 2\\nSkipping line 78: expected 1 fields, saw 2\\nSkipping line 80: expected 1 fields, saw 2\\nSkipping line 81: expected 1 fields, saw 2\\nSkipping line 83: expected 1 fields, saw 2\\nSkipping line 84: expected 1 fields, saw 2\\nSkipping line 86: expected 1 fields, saw 2\\nSkipping line 87: expected 1 fields, saw 2\\nSkipping line 89: expected 1 fields, saw 2\\nSkipping line 90: expected 1 fields, saw 2\\nSkipping line 92: expected 1 fields, saw 2\\nSkipping line 93: expected 1 fields, saw 2\\nSkipping line 95: expected 1 fields, saw 2\\nSkipping line 96: expected 1 fields, saw 2\\nSkipping line 98: expected 1 fields, saw 2\\nSkipping line 99: expected 1 fields, saw 2\\nSkipping line 101: expected 1 fields, saw 2\\nSkipping line 102: expected 1 fields, saw 2\\nSkipping line 104: expected 1 fields, saw 2\\nSkipping line 105: expected 1 fields, saw 2\\nSkipping line 107: expected 1 fields, saw 2\\nSkipping line 108: expected 1 fields, saw 2\\nSkipping line 110: expected 1 fields, saw 2\\nSkipping line 111: expected 1 fields, saw 2\\nSkipping line 113: expected 1 fields, saw 2\\nSkipping line 114: expected 1 fields, saw 2\\nSkipping line 116: expected 1 fields, saw 2\\nSkipping line 117: expected 1 fields, saw 2\\nSkipping line 119: expected 1 fields, saw 2\\nSkipping line 120: expected 1 fields, saw 2\\nSkipping line 122: expected 1 fields, saw 2\\nSkipping line 123: expected 1 fields, saw 2\\nSkipping line 125: expected 1 fields, saw 2\\nSkipping line 126: expected 1 fields, saw 2\\nSkipping line 128: expected 1 fields, saw 2\\nSkipping line 129: expected 1 fields, saw 2\\nSkipping line 131: expected 1 fields, saw 2\\nSkipping line 132: expected 1 fields, saw 2\\nSkipping line 134: expected 1 fields, saw 2\\nSkipping line 135: expected 1 fields, saw 2\\nSkipping line 137: expected 1 fields, saw 2\\nSkipping line 138: expected 1 fields, saw 2\\nSkipping line 140: expected 1 fields, saw 2\\nSkipping line 141: expected 1 fields, saw 2\\nSkipping line 143: expected 1 fields, saw 2\\nSkipping line 144: expected 1 fields, saw 2\\nSkipping line 146: expected 1 fields, saw 2\\nSkipping line 147: expected 1 fields, saw 2\\nSkipping line 149: expected 1 fields, saw 2\\nSkipping line 150: expected 1 fields, saw 2\\nSkipping line 152: expected 1 fields, saw 2\\nSkipping line 153: expected 1 fields, saw 2\\nSkipping line 155: expected 1 fields, saw 2\\nSkipping line 156: expected 1 fields, saw 2\\nSkipping line 158: expected 1 fields, saw 2\\nSkipping line 159: expected 1 fields, saw 2\\nSkipping line 161: expected 1 fields, saw 2\\nSkipping line 162: expected 1 fields, saw 2\\nSkipping line 164: expected 1 fields, saw 2\\nSkipping line 165: expected 1 fields, saw 2\\nSkipping line 167: expected 1 fields, saw 2\\nSkipping line 168: expected 1 fields, saw 2\\nSkipping line 170: expected 1 fields, saw 2\\nSkipping line 171: expected 1 fields, saw 2\\nSkipping line 173: expected 1 fields, saw 2\\nSkipping line 174: expected 1 fields, saw 2\\nSkipping line 176: expected 1 fields, saw 2\\nSkipping line 177: expected 1 fields, saw 2\\nSkipping line 179: expected 1 fields, saw 2\\nSkipping line 180: expected 1 fields, saw 2\\nSkipping line 182: expected 1 fields, saw 2\\nSkipping line 183: expected 1 fields, saw 2\\nSkipping line 185: expected 1 fields, saw 2\\nSkipping line 186: expected 1 fields, saw 2\\nSkipping line 188: expected 1 fields, saw 2\\nSkipping line 189: expected 1 fields, saw 2\\nSkipping line 191: expected 1 fields, saw 2\\nSkipping line 192: expected 1 fields, saw 2\\nSkipping line 194: expected 1 fields, saw 2\\nSkipping line 195: expected 1 fields, saw 2\\nSkipping line 197: expected 1 fields, saw 2\\nSkipping line 198: expected 1 fields, saw 2\\nSkipping line 200: expected 1 fields, saw 2\\nSkipping line 201: expected 1 fields, saw 2\\nSkipping line 203: expected 1 fields, saw 2\\nSkipping line 204: expected 1 fields, saw 2\\nSkipping line 206: expected 1 fields, saw 2\\nSkipping line 207: expected 1 fields, saw 2\\nSkipping line 209: expected 1 fields, saw 2\\nSkipping line 210: expected 1 fields, saw 2\\nSkipping line 212: expected 1 fields, saw 2\\nSkipping line 213: expected 1 fields, saw 2\\nSkipping line 215: expected 1 fields, saw 2\\nSkipping line 216: expected 1 fields, saw 2\\nSkipping line 218: expected 1 fields, saw 2\\nSkipping line 219: expected 1 fields, saw 2\\nSkipping line 221: expected 1 fields, saw 2\\nSkipping line 222: expected 1 fields, saw 2\\nSkipping line 224: expected 1 fields, saw 2\\nSkipping line 225: expected 1 fields, saw 2\\nSkipping line 227: expected 1 fields, saw 2\\nSkipping line 228: expected 1 fields, saw 2\\nSkipping line 230: expected 1 fields, saw 2\\nSkipping line 231: expected 1 fields, saw 2\\nSkipping line 233: expected 1 fields, saw 2\\nSkipping line 234: expected 1 fields, saw 2\\nSkipping line 236: expected 1 fields, saw 2\\nSkipping line 237: expected 1 fields, saw 2\\nSkipping line 239: expected 1 fields, saw 2\\nSkipping line 240: expected 1 fields, saw 2\\nSkipping line 242: expected 1 fields, saw 2\\nSkipping line 243: expected 1 fields, saw 2\\nSkipping line 245: expected 1 fields, saw 2\\nSkipping line 246: expected 1 fields, saw 2\\nSkipping line 248: expected 1 fields, saw 2\\nSkipping line 249: expected 1 fields, saw 2\\nSkipping line 251: expected 1 fields, saw 2\\nSkipping line 252: expected 1 fields, saw 2\\nSkipping line 254: expected 1 fields, saw 2\\nSkipping line 255: expected 1 fields, saw 2\\nSkipping line 257: expected 1 fields, saw 2\\nSkipping line 258: expected 1 fields, saw 2\\nSkipping line 260: expected 1 fields, saw 2\\nSkipping line 261: expected 1 fields, saw 2\\nSkipping line 263: expected 1 fields, saw 2\\nSkipping line 264: expected 1 fields, saw 2\\nSkipping line 266: expected 1 fields, saw 2\\nSkipping line 267: expected 1 fields, saw 2\\nSkipping line 269: expected 1 fields, saw 2\\nSkipping line 270: expected 1 fields, saw 2\\nSkipping line 272: expected 1 fields, saw 2\\nSkipping line 273: expected 1 fields, saw 2\\nSkipping line 275: expected 1 fields, saw 2\\nSkipping line 276: expected 1 fields, saw 2\\nSkipping line 278: expected 1 fields, saw 2\\nSkipping line 279: expected 1 fields, saw 2\\nSkipping line 281: expected 1 fields, saw 2\\nSkipping line 282: expected 1 fields, saw 2\\nSkipping line 284: expected 1 fields, saw 2\\nSkipping line 285: expected 1 fields, saw 2\\nSkipping line 287: expected 1 fields, saw 2\\nSkipping line 288: expected 1 fields, saw 2\\nSkipping line 290: expected 1 fields, saw 2\\nSkipping line 291: expected 1 fields, saw 2\\nSkipping line 293: expected 1 fields, saw 2\\nSkipping line 294: expected 1 fields, saw 2\\nSkipping line 296: expected 1 fields, saw 2\\nSkipping line 297: expected 1 fields, saw 2\\nSkipping line 299: expected 1 fields, saw 2\\nSkipping line 300: expected 1 fields, saw 2\\nSkipping line 302: expected 1 fields, saw 2\\nSkipping line 303: expected 1 fields, saw 2\\nSkipping line 305: expected 1 fields, saw 2\\nSkipping line 306: expected 1 fields, saw 2\\nSkipping line 308: expected 1 fields, saw 2\\nSkipping line 309: expected 1 fields, saw 2\\nSkipping line 311: expected 1 fields, saw 2\\nSkipping line 312: expected 1 fields, saw 2\\nSkipping line 314: expected 1 fields, saw 2\\nSkipping line 315: expected 1 fields, saw 2\\nSkipping line 317: expected 1 fields, saw 2\\nSkipping line 318: expected 1 fields, saw 2\\nSkipping line 320: expected 1 fields, saw 2\\nSkipping line 321: expected 1 fields, saw 2\\nSkipping line 323: expected 1 fields, saw 2\\nSkipping line 324: expected 1 fields, saw 2\\nSkipping line 326: expected 1 fields, saw 2\\nSkipping line 327: expected 1 fields, saw 2\\nSkipping line 329: expected 1 fields, saw 2\\nSkipping line 330: expected 1 fields, saw 2\\nSkipping line 332: expected 1 fields, saw 2\\nSkipping line 333: expected 1 fields, saw 2\\nSkipping line 335: expected 1 fields, saw 2\\nSkipping line 336: expected 1 fields, saw 2\\nSkipping line 338: expected 1 fields, saw 2\\nSkipping line 339: expected 1 fields, saw 2\\nSkipping line 341: expected 1 fields, saw 2\\nSkipping line 342: expected 1 fields, saw 2\\nSkipping line 344: expected 1 fields, saw 2\\nSkipping line 345: expected 1 fields, saw 2\\nSkipping line 347: expected 1 fields, saw 2\\nSkipping line 348: expected 1 fields, saw 2\\nSkipping line 350: expected 1 fields, saw 2\\nSkipping line 351: expected 1 fields, saw 2\\nSkipping line 353: expected 1 fields, saw 2\\nSkipping line 354: expected 1 fields, saw 2\\nSkipping line 356: expected 1 fields, saw 2\\nSkipping line 357: expected 1 fields, saw 2\\nSkipping line 359: expected 1 fields, saw 2\\nSkipping line 360: expected 1 fields, saw 2\\nSkipping line 362: expected 1 fields, saw 2\\nSkipping line 363: expected 1 fields, saw 2\\nSkipping line 365: expected 1 fields, saw 2\\nSkipping line 366: expected 1 fields, saw 2\\nSkipping line 368: expected 1 fields, saw 2\\nSkipping line 369: expected 1 fields, saw 2\\nSkipping line 371: expected 1 fields, saw 2\\nSkipping line 372: expected 1 fields, saw 2\\nSkipping line 374: expected 1 fields, saw 2\\nSkipping line 375: expected 1 fields, saw 2\\nSkipping line 377: expected 1 fields, saw 2\\nSkipping line 378: expected 1 fields, saw 2\\nSkipping line 380: expected 1 fields, saw 2\\nSkipping line 381: expected 1 fields, saw 2\\nSkipping line 383: expected 1 fields, saw 2\\nSkipping line 384: expected 1 fields, saw 2\\nSkipping line 386: expected 1 fields, saw 2\\nSkipping line 387: expected 1 fields, saw 2\\nSkipping line 389: expected 1 fields, saw 2\\nSkipping line 390: expected 1 fields, saw 2\\nSkipping line 392: expected 1 fields, saw 2\\nSkipping line 393: expected 1 fields, saw 2\\nSkipping line 395: expected 1 fields, saw 2\\nSkipping line 396: expected 1 fields, saw 2\\nSkipping line 398: expected 1 fields, saw 2\\nSkipping line 399: expected 1 fields, saw 2\\nSkipping line 401: expected 1 fields, saw 2\\nSkipping line 402: expected 1 fields, saw 2\\nSkipping line 404: expected 1 fields, saw 2\\nSkipping line 405: expected 1 fields, saw 2\\nSkipping line 407: expected 1 fields, saw 2\\nSkipping line 408: expected 1 fields, saw 2\\nSkipping line 410: expected 1 fields, saw 2\\nSkipping line 411: expected 1 fields, saw 2\\nSkipping line 413: expected 1 fields, saw 2\\nSkipping line 414: expected 1 fields, saw 2\\nSkipping line 416: expected 1 fields, saw 2\\nSkipping line 417: expected 1 fields, saw 2\\nSkipping line 419: expected 1 fields, saw 2\\nSkipping line 420: expected 1 fields, saw 2\\nSkipping line 422: expected 1 fields, saw 2\\nSkipping line 423: expected 1 fields, saw 2\\nSkipping line 425: expected 1 fields, saw 2\\nSkipping line 426: expected 1 fields, saw 2\\nSkipping line 428: expected 1 fields, saw 2\\nSkipping line 429: expected 1 fields, saw 2\\nSkipping line 431: expected 1 fields, saw 2\\nSkipping line 432: expected 1 fields, saw 2\\nSkipping line 434: expected 1 fields, saw 2\\nSkipping line 435: expected 1 fields, saw 2\\nSkipping line 437: expected 1 fields, saw 2\\nSkipping line 438: expected 1 fields, saw 2\\nSkipping line 440: expected 1 fields, saw 2\\nSkipping line 441: expected 1 fields, saw 2\\nSkipping line 443: expected 1 fields, saw 2\\nSkipping line 444: expected 1 fields, saw 2\\nSkipping line 446: expected 1 fields, saw 2\\nSkipping line 447: expected 1 fields, saw 2\\nSkipping line 449: expected 1 fields, saw 2\\nSkipping line 450: expected 1 fields, saw 2\\nSkipping line 452: expected 1 fields, saw 2\\nSkipping line 453: expected 1 fields, saw 2\\nSkipping line 455: expected 1 fields, saw 2\\nSkipping line 456: expected 1 fields, saw 2\\nSkipping line 458: expected 1 fields, saw 2\\nSkipping line 459: expected 1 fields, saw 2\\nSkipping line 461: expected 1 fields, saw 2\\nSkipping line 462: expected 1 fields, saw 2\\nSkipping line 464: expected 1 fields, saw 2\\nSkipping line 465: expected 1 fields, saw 2\\nSkipping line 467: expected 1 fields, saw 2\\nSkipping line 468: expected 1 fields, saw 2\\nSkipping line 470: expected 1 fields, saw 2\\nSkipping line 471: expected 1 fields, saw 2\\nSkipping line 473: expected 1 fields, saw 2\\nSkipping line 474: expected 1 fields, saw 2\\nSkipping line 476: expected 1 fields, saw 2\\nSkipping line 477: expected 1 fields, saw 2\\nSkipping line 479: expected 1 fields, saw 2\\nSkipping line 480: expected 1 fields, saw 2\\nSkipping line 482: expected 1 fields, saw 2\\nSkipping line 483: expected 1 fields, saw 2\\nSkipping line 485: expected 1 fields, saw 2\\nSkipping line 486: expected 1 fields, saw 2\\nSkipping line 488: expected 1 fields, saw 2\\nSkipping line 489: expected 1 fields, saw 2\\nSkipping line 491: expected 1 fields, saw 2\\nSkipping line 492: expected 1 fields, saw 2\\nSkipping line 494: expected 1 fields, saw 2\\nSkipping line 495: expected 1 fields, saw 2\\nSkipping line 497: expected 1 fields, saw 2\\nSkipping line 498: expected 1 fields, saw 2\\nSkipping line 500: expected 1 fields, saw 2\\nSkipping line 501: expected 1 fields, saw 2\\nSkipping line 503: expected 1 fields, saw 2\\nSkipping line 504: expected 1 fields, saw 2\\nSkipping line 506: expected 1 fields, saw 2\\nSkipping line 507: expected 1 fields, saw 2\\nSkipping line 509: expected 1 fields, saw 2\\nSkipping line 510: expected 1 fields, saw 2\\nSkipping line 512: expected 1 fields, saw 2\\nSkipping line 513: expected 1 fields, saw 2\\nSkipping line 515: expected 1 fields, saw 2\\nSkipping line 516: expected 1 fields, saw 2\\nSkipping line 518: expected 1 fields, saw 2\\nSkipping line 519: expected 1 fields, saw 2\\nSkipping line 521: expected 1 fields, saw 2\\nSkipping line 522: expected 1 fields, saw 2\\nSkipping line 524: expected 1 fields, saw 2\\nSkipping line 525: expected 1 fields, saw 2\\nSkipping line 527: expected 1 fields, saw 2\\nSkipping line 528: expected 1 fields, saw 2\\nSkipping line 530: expected 1 fields, saw 2\\nSkipping line 531: expected 1 fields, saw 2\\nSkipping line 533: expected 1 fields, saw 2\\nSkipping line 534: expected 1 fields, saw 2\\nSkipping line 536: expected 1 fields, saw 2\\nSkipping line 537: expected 1 fields, saw 2\\nSkipping line 539: expected 1 fields, saw 2\\nSkipping line 540: expected 1 fields, saw 2\\n'\n"
     ]
    },
    {
     "ename": "ValueError",
     "evalue": "Length mismatch: Expected axis has 1 elements, new values have 3 elements",
     "output_type": "error",
     "traceback": [
      "\u001b[1;31m---------------------------------------------------------------------------\u001b[0m",
      "\u001b[1;31mValueError\u001b[0m                                Traceback (most recent call last)",
      "\u001b[1;32m<ipython-input-29-f46f9938ec6b>\u001b[0m in \u001b[0;36m<module>\u001b[1;34m\u001b[0m\n\u001b[0;32m      1\u001b[0m \u001b[0mdf\u001b[0m \u001b[1;33m=\u001b[0m \u001b[0mpd\u001b[0m\u001b[1;33m.\u001b[0m\u001b[0mread_csv\u001b[0m\u001b[1;33m(\u001b[0m\u001b[1;34m'toronto.csv'\u001b[0m\u001b[1;33m,\u001b[0m\u001b[0mheader\u001b[0m\u001b[1;33m=\u001b[0m\u001b[1;32mNone\u001b[0m\u001b[1;33m,\u001b[0m\u001b[0merror_bad_lines\u001b[0m\u001b[1;33m=\u001b[0m\u001b[1;32mFalse\u001b[0m\u001b[1;33m)\u001b[0m\u001b[1;33m\u001b[0m\u001b[0m\n\u001b[1;32m----> 2\u001b[1;33m \u001b[0mdf\u001b[0m\u001b[1;33m.\u001b[0m\u001b[0mcolumns\u001b[0m\u001b[1;33m=\u001b[0m\u001b[1;33m[\u001b[0m\u001b[1;34m\"Postalcode\"\u001b[0m\u001b[1;33m,\u001b[0m\u001b[1;34m\"Borough\"\u001b[0m\u001b[1;33m,\u001b[0m\u001b[1;34m\"Neighbourhood\"\u001b[0m\u001b[1;33m]\u001b[0m\u001b[1;33m\u001b[0m\u001b[0m\n\u001b[0m",
      "\u001b[1;32m~\\Anaconda3\\envs\\python-cvcourse\\lib\\site-packages\\pandas\\core\\generic.py\u001b[0m in \u001b[0;36m__setattr__\u001b[1;34m(self, name, value)\u001b[0m\n\u001b[0;32m   5285\u001b[0m         \u001b[1;32mtry\u001b[0m\u001b[1;33m:\u001b[0m\u001b[1;33m\u001b[0m\u001b[0m\n\u001b[0;32m   5286\u001b[0m             \u001b[0mobject\u001b[0m\u001b[1;33m.\u001b[0m\u001b[0m__getattribute__\u001b[0m\u001b[1;33m(\u001b[0m\u001b[0mself\u001b[0m\u001b[1;33m,\u001b[0m \u001b[0mname\u001b[0m\u001b[1;33m)\u001b[0m\u001b[1;33m\u001b[0m\u001b[0m\n\u001b[1;32m-> 5287\u001b[1;33m             \u001b[1;32mreturn\u001b[0m \u001b[0mobject\u001b[0m\u001b[1;33m.\u001b[0m\u001b[0m__setattr__\u001b[0m\u001b[1;33m(\u001b[0m\u001b[0mself\u001b[0m\u001b[1;33m,\u001b[0m \u001b[0mname\u001b[0m\u001b[1;33m,\u001b[0m \u001b[0mvalue\u001b[0m\u001b[1;33m)\u001b[0m\u001b[1;33m\u001b[0m\u001b[0m\n\u001b[0m\u001b[0;32m   5288\u001b[0m         \u001b[1;32mexcept\u001b[0m \u001b[0mAttributeError\u001b[0m\u001b[1;33m:\u001b[0m\u001b[1;33m\u001b[0m\u001b[0m\n\u001b[0;32m   5289\u001b[0m             \u001b[1;32mpass\u001b[0m\u001b[1;33m\u001b[0m\u001b[0m\n",
      "\u001b[1;32mpandas\\_libs\\properties.pyx\u001b[0m in \u001b[0;36mpandas._libs.properties.AxisProperty.__set__\u001b[1;34m()\u001b[0m\n",
      "\u001b[1;32m~\\Anaconda3\\envs\\python-cvcourse\\lib\\site-packages\\pandas\\core\\generic.py\u001b[0m in \u001b[0;36m_set_axis\u001b[1;34m(self, axis, labels)\u001b[0m\n\u001b[0;32m    659\u001b[0m \u001b[1;33m\u001b[0m\u001b[0m\n\u001b[0;32m    660\u001b[0m     \u001b[1;32mdef\u001b[0m \u001b[0m_set_axis\u001b[0m\u001b[1;33m(\u001b[0m\u001b[0mself\u001b[0m\u001b[1;33m,\u001b[0m \u001b[0maxis\u001b[0m\u001b[1;33m,\u001b[0m \u001b[0mlabels\u001b[0m\u001b[1;33m)\u001b[0m \u001b[1;33m->\u001b[0m \u001b[1;32mNone\u001b[0m\u001b[1;33m:\u001b[0m\u001b[1;33m\u001b[0m\u001b[0m\n\u001b[1;32m--> 661\u001b[1;33m         \u001b[0mself\u001b[0m\u001b[1;33m.\u001b[0m\u001b[0m_data\u001b[0m\u001b[1;33m.\u001b[0m\u001b[0mset_axis\u001b[0m\u001b[1;33m(\u001b[0m\u001b[0maxis\u001b[0m\u001b[1;33m,\u001b[0m \u001b[0mlabels\u001b[0m\u001b[1;33m)\u001b[0m\u001b[1;33m\u001b[0m\u001b[0m\n\u001b[0m\u001b[0;32m    662\u001b[0m         \u001b[0mself\u001b[0m\u001b[1;33m.\u001b[0m\u001b[0m_clear_item_cache\u001b[0m\u001b[1;33m(\u001b[0m\u001b[1;33m)\u001b[0m\u001b[1;33m\u001b[0m\u001b[0m\n\u001b[0;32m    663\u001b[0m \u001b[1;33m\u001b[0m\u001b[0m\n",
      "\u001b[1;32m~\\Anaconda3\\envs\\python-cvcourse\\lib\\site-packages\\pandas\\core\\internals\\managers.py\u001b[0m in \u001b[0;36mset_axis\u001b[1;34m(self, axis, new_labels)\u001b[0m\n\u001b[0;32m    176\u001b[0m         \u001b[1;32mif\u001b[0m \u001b[0mnew_len\u001b[0m \u001b[1;33m!=\u001b[0m \u001b[0mold_len\u001b[0m\u001b[1;33m:\u001b[0m\u001b[1;33m\u001b[0m\u001b[0m\n\u001b[0;32m    177\u001b[0m             raise ValueError(\n\u001b[1;32m--> 178\u001b[1;33m                 \u001b[1;34mf\"Length mismatch: Expected axis has {old_len} elements, new \"\u001b[0m\u001b[1;33m\u001b[0m\u001b[0m\n\u001b[0m\u001b[0;32m    179\u001b[0m                 \u001b[1;34mf\"values have {new_len} elements\"\u001b[0m\u001b[1;33m\u001b[0m\u001b[0m\n\u001b[0;32m    180\u001b[0m             )\n",
      "\u001b[1;31mValueError\u001b[0m: Length mismatch: Expected axis has 1 elements, new values have 3 elements"
     ]
    }
   ],
   "source": [
    "df = pd.read_csv('toronto.csv',header=None,error_bad_lines=False)\n",
    "df.columns=[\"Postalcode\",\"Borough\",\"Neighbourhood\"]"
   ]
  },
  {
   "cell_type": "code",
   "execution_count": null,
   "metadata": {},
   "outputs": [],
   "source": []
  }
 ],
 "metadata": {
  "kernelspec": {
   "display_name": "Python 3",
   "language": "python",
   "name": "python3"
  },
  "language_info": {
   "codemirror_mode": {
    "name": "ipython",
    "version": 3
   },
   "file_extension": ".py",
   "mimetype": "text/x-python",
   "name": "python",
   "nbconvert_exporter": "python",
   "pygments_lexer": "ipython3",
   "version": "3.6.6"
  }
 },
 "nbformat": 4,
 "nbformat_minor": 2
}
